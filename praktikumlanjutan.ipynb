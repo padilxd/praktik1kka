{
  "nbformat": 4,
  "nbformat_minor": 0,
  "metadata": {
    "colab": {
      "provenance": [],
      "runtime_attributes": {
        "runtime_version": "2025.07"
      },
      "authorship_tag": "ABX9TyPu8N4Mkx4EC0cmqrN19y/U",
      "include_colab_link": true
    },
    "kernelspec": {
      "name": "python3",
      "display_name": "Python 3"
    },
    "language_info": {
      "name": "python"
    }
  },
  "cells": [
    {
      "cell_type": "markdown",
      "metadata": {
        "id": "view-in-github",
        "colab_type": "text"
      },
      "source": [
        "<a href=\"https://colab.research.google.com/github/padilxd/praktik1kka/blob/main/praktikumlanjutan.ipynb\" target=\"_parent\"><img src=\"https://colab.research.google.com/assets/colab-badge.svg\" alt=\"Open In Colab\"/></a>"
      ]
    },
    {
      "cell_type": "code",
      "execution_count": 28,
      "metadata": {
        "id": "KNDIBr9uRLec",
        "colab": {
          "base_uri": "https://localhost:8080/"
        },
        "outputId": "70bf830a-1163-40f9-9082-f39a4770e2cb"
      },
      "outputs": [
        {
          "output_type": "stream",
          "name": "stdout",
          "text": [
            "Before casting : 456 , the data type is <class 'str'>\n",
            "After casting : 456 , the data type is <class 'int'>\n"
          ]
        }
      ],
      "source": [
        "# cast from str to int\n",
        "str_numbers = \"456\"\n",
        "str_numbers_to_int = int(str_numbers)\n",
        "print(\"Before casting :\", str_numbers, \", the data type is\",\n",
        "type(str_numbers))\n",
        "print(\"After casting :\", str_numbers_to_int, \", the data type is\",\n",
        "type(str_numbers_to_int))"
      ]
    },
    {
      "cell_type": "code",
      "source": [
        "# casting from int to str\n",
        "integer = 12345\n",
        "integer_to_str = str(integer)\n",
        "print(\"Before casting :\", integer, \", the data type is\", type(integer))\n",
        "print(\"After casting :\", integer_to_str, \", the data type is\",\n",
        "type(integer_to_str))"
      ],
      "metadata": {
        "id": "KroeU85YOic7",
        "colab": {
          "base_uri": "https://localhost:8080/"
        },
        "outputId": "8c743243-eb49-4655-a37a-133312090f92"
      },
      "execution_count": 27,
      "outputs": [
        {
          "output_type": "stream",
          "name": "stdout",
          "text": [
            "Before casting : 12345 , the data type is <class 'int'>\n",
            "After casting : 12345 , the data type is <class 'str'>\n"
          ]
        }
      ]
    },
    {
      "cell_type": "code",
      "source": [
        "# casting from int to bool\n",
        "num_int = 1\n",
        "num_bool = bool(num_int)\n",
        "print(num_bool, type(num_bool))\n",
        "num_int = 0\n",
        "\n",
        "num_bool = bool(num_int)\n",
        "print(num_bool, type(num_bool))"
      ],
      "metadata": {
        "colab": {
          "base_uri": "https://localhost:8080/"
        },
        "id": "64ifHrFbOs2D",
        "outputId": "d6304eaa-c740-4bed-856d-123188cfbea9"
      },
      "execution_count": 26,
      "outputs": [
        {
          "output_type": "stream",
          "name": "stdout",
          "text": [
            "True <class 'bool'>\n",
            "False <class 'bool'>\n"
          ]
        }
      ]
    },
    {
      "cell_type": "code",
      "source": [
        "# Equal to\n",
        "8 == 8\n",
        "# Not equal to\n",
        "8 != 9\n",
        "# Greater than\n",
        "8 > 9\n",
        "# Less than\n",
        "8 < 9\n",
        "# Less than\n",
        "8 <= 9\n",
        "# Less than\n",
        "9 >= 9"
      ],
      "metadata": {
        "colab": {
          "base_uri": "https://localhost:8080/"
        },
        "id": "_VQXT9GbOvNw",
        "outputId": "4ce8d704-147c-4ef7-b4b4-2d9174c76000"
      },
      "execution_count": 25,
      "outputs": [
        {
          "output_type": "execute_result",
          "data": {
            "text/plain": [
              "True"
            ]
          },
          "metadata": {},
          "execution_count": 25
        }
      ]
    },
    {
      "cell_type": "code",
      "source": [
        "a = True\n",
        "b = True\n",
        "print(a and b)\n",
        "print(a or b)\n",
        "print(not b)\n",
        "#logic\n",
        "5 > 6 and 6 < 7"
      ],
      "metadata": {
        "id": "bIaxl0ZCOxDm",
        "colab": {
          "base_uri": "https://localhost:8080/"
        },
        "outputId": "7f116c26-d480-48bc-8439-4a642ac51478"
      },
      "execution_count": 23,
      "outputs": [
        {
          "output_type": "stream",
          "name": "stdout",
          "text": [
            "True\n",
            "True\n",
            "False\n"
          ]
        },
        {
          "output_type": "execute_result",
          "data": {
            "text/plain": [
              "False"
            ]
          },
          "metadata": {},
          "execution_count": 23
        }
      ]
    },
    {
      "cell_type": "code",
      "source": [
        "e = 8\n",
        "f = 2\n",
        "# Summation\n",
        "sum = e + f\n",
        "print(f\"The sum of e with f is : {sum}\\n\")\n",
        "# Reduction\n",
        "red = e - f\n",
        "print(f\"The reduction of e with f is : {red}\\n\")\n",
        "\n",
        "# Multiplication\n",
        "multi = e * f\n",
        "print(f\"The multipication of e with f is : {multi}\\n\")\n",
        "# Division\n",
        "divi = e / f\n",
        "print(f\"The quotient of e with f is : {divi}\\n\")\n",
        "# Modulo\n",
        "mod = e % f\n",
        "print(f\"The remainder of e with f is : {mod}\\n\")\n",
        "# Power\n",
        "pow = e ** f\n",
        "print(f\"The power of e of f is : {pow}\\n\")"
      ],
      "metadata": {
        "id": "pjyuTNy-Oy3y",
        "colab": {
          "base_uri": "https://localhost:8080/"
        },
        "outputId": "64bfac22-9ea2-440a-ed6e-7f3dcb719b52"
      },
      "execution_count": 24,
      "outputs": [
        {
          "output_type": "stream",
          "name": "stdout",
          "text": [
            "The sum of e with f is : 10\n",
            "\n",
            "The reduction of e with f is : 6\n",
            "\n",
            "The multipication of e with f is : 16\n",
            "\n",
            "The quotient of e with f is : 4.0\n",
            "\n",
            "The remainder of e with f is : 0\n",
            "\n",
            "The power of e of f is : 64\n",
            "\n"
          ]
        }
      ]
    },
    {
      "cell_type": "code",
      "source": [
        "name = str(input(\"What is your name : \"))\n",
        "age = int(input(\"What's your age : \"))\n",
        "print(\"Name: \", name)\n",
        "print(\"Age: \", age)"
      ],
      "metadata": {
        "id": "T3sacoHzO09m",
        "colab": {
          "base_uri": "https://localhost:8080/"
        },
        "outputId": "909aac32-d436-4155-8c49-bcf8c74757ef"
      },
      "execution_count": 35,
      "outputs": [
        {
          "output_type": "stream",
          "name": "stdout",
          "text": [
            "What is your name : p\n",
            "What's your age : 9\n",
            "Name:  p\n",
            "Age:  9\n"
          ]
        }
      ]
    },
    {
      "cell_type": "code",
      "source": [
        "# normal print\n",
        "print('Hi all! I am', name, 'age', age, 'years old')\n",
        "\n",
        "# format print\n",
        "print(f'Hi all! I am {name} age {age} years old')\n",
        "\n",
        "# format print\n",
        "print(f'Hi all! I am %s age %d years old'%(name, age))\n",
        "# fortmat output\n",
        "print(30*\"=\")\n",
        "print(\"Temperature Calculator Program\")\n",
        "print(30*\"=\")"
      ],
      "metadata": {
        "id": "HnzbtoxQO3Rc",
        "colab": {
          "base_uri": "https://localhost:8080/"
        },
        "outputId": "55f4a3b8-52f5-41be-e492-d3db18315adc"
      },
      "execution_count": 36,
      "outputs": [
        {
          "output_type": "stream",
          "name": "stdout",
          "text": [
            "Hi all! I am p age 9 years old\n",
            "Hi all! I am p age 9 years old\n",
            "Hi all! I am p age 9 years old\n",
            "==============================\n",
            "Temperature Calculator Program\n",
            "==============================\n"
          ]
        }
      ]
    },
    {
      "cell_type": "code",
      "source": [
        "try:\n",
        "  your_GPA = float(input(\"Enter your GPA: \"))\n",
        "  if 4.0 >= your_GPA >= 0.0:\n",
        "    if 4.0 >= your_GPA >= 3.80:\n",
        "      print (f\"Damn you've got a magna cumlaude with your {your_GPA} GPA\")\n",
        "    elif 3.50 <= your_GPA < 3.80:\n",
        "      print(f\"Cool!! You've got a cumlaude with your {your_GPA} GPA\")\n",
        "    elif 3.00 <= your_GPA < 3.50:\n",
        "      print(f\"You've got a stable GPA tho\")\n",
        "    elif your_GPA < 3.0:\n",
        "      print(f\"You need a stable GPA\")\n",
        "    else:\n",
        "      print(f\"Sorry, your GPA {your_GPA} is out of range and invalid\")\n",
        "except:\n",
        "  print(\"Please enter a valid GPA\")\n"
      ],
      "metadata": {
        "id": "p-zGxD6bO78-",
        "colab": {
          "base_uri": "https://localhost:8080/"
        },
        "outputId": "205a1f10-e469-4376-d678-678d71dff92f"
      },
      "execution_count": 9,
      "outputs": [
        {
          "output_type": "stream",
          "name": "stdout",
          "text": [
            "Enter your GPA: 3.8\n",
            "Damn you've got a magna cumlaude with your 3.8 GPA\n"
          ]
        }
      ]
    },
    {
      "cell_type": "code",
      "source": [
        "try:\n",
        "  status_code = int(input(\"Enter your status code: \"))\n",
        "  print(\"Your code means\")\n",
        "  match status_code:\n",
        "    case 200:\n",
        "      print(\"Success!\")\n",
        "    case 400:\n",
        "      print(\"Bad Request\")\n",
        "    case 401:\n",
        "      print(\"Unauthorized\")\n",
        "    case 402:\n",
        "      print(\"Payment Required\")\n",
        "    case 403:\n",
        "      print(\"Forbidden\")\n",
        "    case 404:\n",
        "      print(\"Not Found\")\n",
        "    case 500:\n",
        "      print(\"Internal Server Error\")\n",
        "except :\n",
        "  print(\"Please enter a valid status code\")"
      ],
      "metadata": {
        "id": "bAKhu9AEPIjp",
        "colab": {
          "base_uri": "https://localhost:8080/"
        },
        "outputId": "f692fc07-0fc4-464c-ccc1-304dddb9d2d0"
      },
      "execution_count": 10,
      "outputs": [
        {
          "output_type": "stream",
          "name": "stdout",
          "text": [
            "Enter your status code: 200\n",
            "Your code means\n",
            "Success!\n"
          ]
        }
      ]
    },
    {
      "cell_type": "code",
      "source": [
        "a = 3\n",
        "b = \"Even Numbers\" if a % 2 == 0 else \"Odd Numbers\"\n",
        "print(b)"
      ],
      "metadata": {
        "id": "eC5hHQz-PJSL",
        "colab": {
          "base_uri": "https://localhost:8080/"
        },
        "outputId": "be861cbf-2faf-4a20-d624-a94d7eb72013"
      },
      "execution_count": 13,
      "outputs": [
        {
          "output_type": "stream",
          "name": "stdout",
          "text": [
            "Odd Numbers\n"
          ]
        }
      ]
    },
    {
      "cell_type": "code",
      "source": [
        "for i in range(5):\n",
        "  print(i)\n",
        "0\n",
        "1\n",
        "2\n",
        "3\n",
        "4\n",
        "# For loop with range\n",
        "for i in range(5):\n",
        "    print(\"Data science is easy!\")\n",
        "    print(50*\"=\")\n",
        "for i in range(1, 5, 2):\n",
        "    print(\"Data science is easy!\")"
      ],
      "metadata": {
        "id": "1n6mAkqGPK2U",
        "colab": {
          "base_uri": "https://localhost:8080/"
        },
        "outputId": "56b801c7-b94e-42d2-9e0d-c891a2c3dafd"
      },
      "execution_count": 12,
      "outputs": [
        {
          "output_type": "stream",
          "name": "stdout",
          "text": [
            "0\n",
            "1\n",
            "2\n",
            "3\n",
            "4\n",
            "Data science is easy!\n",
            "==================================================\n",
            "Data science is easy!\n",
            "==================================================\n",
            "Data science is easy!\n",
            "==================================================\n",
            "Data science is easy!\n",
            "==================================================\n",
            "Data science is easy!\n",
            "==================================================\n",
            "Data science is easy!\n",
            "Data science is easy!\n"
          ]
        }
      ]
    },
    {
      "cell_type": "code",
      "source": [
        "word = \"I want to master data science\"\n",
        "for letter in word:\n",
        "  print(letter)"
      ],
      "metadata": {
        "id": "fO1SQ7xePM1w",
        "colab": {
          "base_uri": "https://localhost:8080/"
        },
        "outputId": "a404e82a-fa24-4ecb-bf9e-7960a585b1ab"
      },
      "execution_count": 14,
      "outputs": [
        {
          "output_type": "stream",
          "name": "stdout",
          "text": [
            "I\n",
            " \n",
            "w\n",
            "a\n",
            "n\n",
            "t\n",
            " \n",
            "t\n",
            "o\n",
            " \n",
            "m\n",
            "a\n",
            "s\n",
            "t\n",
            "e\n",
            "r\n",
            " \n",
            "d\n",
            "a\n",
            "t\n",
            "a\n",
            " \n",
            "s\n",
            "c\n",
            "i\n",
            "e\n",
            "n\n",
            "c\n",
            "e\n"
          ]
        }
      ]
    },
    {
      "cell_type": "code",
      "source": [
        "# You can use it with enumerate function\n",
        "for m, n in enumerate(word):\n",
        "  print(f\"Index {m}. {n}\")"
      ],
      "metadata": {
        "id": "yj8ZlTf0PO5w",
        "colab": {
          "base_uri": "https://localhost:8080/"
        },
        "outputId": "8f7072e2-87eb-458d-904c-38de63411b01"
      },
      "execution_count": 22,
      "outputs": [
        {
          "output_type": "stream",
          "name": "stdout",
          "text": [
            "Index 0. I\n",
            "Index 1.  \n",
            "Index 2. w\n",
            "Index 3. a\n",
            "Index 4. n\n",
            "Index 5. t\n",
            "Index 6.  \n",
            "Index 7. t\n",
            "Index 8. o\n",
            "Index 9.  \n",
            "Index 10. m\n",
            "Index 11. a\n",
            "Index 12. s\n",
            "Index 13. t\n",
            "Index 14. e\n",
            "Index 15. r\n",
            "Index 16.  \n",
            "Index 17. d\n",
            "Index 18. a\n",
            "Index 19. t\n",
            "Index 20. a\n",
            "Index 21.  \n",
            "Index 22. s\n",
            "Index 23. c\n",
            "Index 24. i\n",
            "Index 25. e\n",
            "Index 26. n\n",
            "Index 27. c\n",
            "Index 28. e\n"
          ]
        }
      ]
    },
    {
      "cell_type": "code",
      "source": [
        "# It can go backwards\n",
        "for i in range(5,1,-1):\n",
        "  print(\"I want big data's\")"
      ],
      "metadata": {
        "id": "PAAQLShvPQ_U",
        "colab": {
          "base_uri": "https://localhost:8080/"
        },
        "outputId": "82c28076-9c68-4a6e-c72b-af3b62e2b8e2"
      },
      "execution_count": 21,
      "outputs": [
        {
          "output_type": "stream",
          "name": "stdout",
          "text": [
            "I want big data's\n",
            "I want big data's\n",
            "I want big data's\n",
            "I want big data's\n"
          ]
        }
      ]
    },
    {
      "cell_type": "code",
      "source": [
        "for i in range(5):\n",
        "  if i == 2:\n",
        "    continue # skip theis loop when i is equal to 2\n",
        "  if i == 4:\n",
        "    break # stops the loop when i is equal to 4\n",
        "print(i)"
      ],
      "metadata": {
        "id": "Y8FgY5piPS0D",
        "colab": {
          "base_uri": "https://localhost:8080/"
        },
        "outputId": "7e2be762-aea5-4ef4-8184-741162a4bdc2"
      },
      "execution_count": 20,
      "outputs": [
        {
          "output_type": "stream",
          "name": "stdout",
          "text": [
            "4\n"
          ]
        }
      ]
    },
    {
      "cell_type": "code",
      "source": [
        "count = 0\n",
        "while count < 4:\n",
        "  print(\"Keep the spirits up interns!\")\n",
        "  count += 1"
      ],
      "metadata": {
        "id": "CWMQHwHnPUW0",
        "colab": {
          "base_uri": "https://localhost:8080/"
        },
        "outputId": "a0b84d4c-f562-4de3-ebc6-cd8fb1dd4dda"
      },
      "execution_count": 19,
      "outputs": [
        {
          "output_type": "stream",
          "name": "stdout",
          "text": [
            "Keep the spirits up interns!\n",
            "Keep the spirits up interns!\n",
            "Keep the spirits up interns!\n",
            "Keep the spirits up interns!\n"
          ]
        }
      ]
    },
    {
      "cell_type": "code",
      "source": [],
      "metadata": {
        "id": "nt63hJ5RPVwE"
      },
      "execution_count": null,
      "outputs": []
    }
  ]
}