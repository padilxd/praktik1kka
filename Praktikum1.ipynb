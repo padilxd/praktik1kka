{
  "nbformat": 4,
  "nbformat_minor": 0,
  "metadata": {
    "colab": {
      "provenance": [],
      "authorship_tag": "ABX9TyOBFO3rIr9BRvMHCyaVtjnW",
      "include_colab_link": true
    },
    "kernelspec": {
      "name": "python3",
      "display_name": "Python 3"
    },
    "language_info": {
      "name": "python"
    }
  },
  "cells": [
    {
      "cell_type": "markdown",
      "metadata": {
        "id": "view-in-github",
        "colab_type": "text"
      },
      "source": [
        "<a href=\"https://colab.research.google.com/github/padilxd/praktik1kka/blob/main/Praktikum1.ipynb\" target=\"_parent\"><img src=\"https://colab.research.google.com/assets/colab-badge.svg\" alt=\"Open In Colab\"/></a>"
      ]
    },
    {
      "cell_type": "code",
      "source": [
        "name=\"padilxd\"\n",
        "type(name)"
      ],
      "metadata": {
        "colab": {
          "base_uri": "https://localhost:8080/"
        },
        "id": "mJveV11_NEQN",
        "outputId": "843abe18-bfcb-41b5-cf76-c468b6c029f7"
      },
      "execution_count": null,
      "outputs": [
        {
          "output_type": "execute_result",
          "data": {
            "text/plain": [
              "str"
            ]
          },
          "metadata": {},
          "execution_count": 1
        }
      ]
    },
    {
      "cell_type": "code",
      "source": [
        "a=3\n",
        "type (a)"
      ],
      "metadata": {
        "colab": {
          "base_uri": "https://localhost:8080/"
        },
        "id": "FOpRSL99NVeE",
        "outputId": "068cdc45-9930-486f-8dcf-21d4fb76bc53"
      },
      "execution_count": null,
      "outputs": [
        {
          "output_type": "execute_result",
          "data": {
            "text/plain": [
              "int"
            ]
          },
          "metadata": {},
          "execution_count": 2
        }
      ]
    },
    {
      "cell_type": "code",
      "source": [
        "huruf=['a', 'b' , 'c']\n",
        "type(huruf)\n",
        "huruf[2]"
      ],
      "metadata": {
        "colab": {
          "base_uri": "https://localhost:8080/",
          "height": 36
        },
        "id": "aiKPpPshQHEr",
        "outputId": "499e9436-d0ff-403b-9f16-c852214cc0d2"
      },
      "execution_count": null,
      "outputs": [
        {
          "output_type": "execute_result",
          "data": {
            "text/plain": [
              "'c'"
            ],
            "application/vnd.google.colaboratory.intrinsic+json": {
              "type": "string"
            }
          },
          "metadata": {},
          "execution_count": 5
        }
      ]
    },
    {
      "cell_type": "code",
      "source": [
        "#daftarhargabuah\n",
        "daftarharga={'apel':7000,'mangga':8000, 'jeruk':10000}\n",
        "type(daftarharga)\n",
        "#\n",
        "\n"
      ],
      "metadata": {
        "colab": {
          "base_uri": "https://localhost:8080/"
        },
        "id": "tLFnoOfyQNhv",
        "outputId": "4a61fb9c-b87d-4d92-e2ac-3757f5ad487c"
      },
      "execution_count": null,
      "outputs": [
        {
          "output_type": "execute_result",
          "data": {
            "text/plain": [
              "dict"
            ]
          },
          "metadata": {},
          "execution_count": 12
        }
      ]
    },
    {
      "cell_type": "code",
      "source": [
        "print(daftarharga.keys())\n",
        "print(daftarharga.values())\n",
        "print(\"Name pembeli = poke\")"
      ],
      "metadata": {
        "colab": {
          "base_uri": "https://localhost:8080/"
        },
        "id": "1p3r9HiXRIjM",
        "outputId": "319053a6-f440-4cf3-9c6e-7e08e1a8a9cd"
      },
      "execution_count": null,
      "outputs": [
        {
          "output_type": "stream",
          "name": "stdout",
          "text": [
            "dict_keys(['apel', 'mangga', 'jeruk'])\n",
            "dict_values([7000, 8000, 10000])\n",
            "Name pembeli = poke\n"
          ]
        }
      ]
    },
    {
      "cell_type": "code",
      "source": [
        "def luas_keliling(panjang, lebar):\n",
        "  \"\"\"\n",
        "  Menghitung luas dan keliling persegi panjang.\n",
        "\n",
        "  Args:\n",
        "    panjang: Panjang persegi panjang.\n",
        "    lebar: Lebar persegi panjang.\n",
        "\n",
        "  Returns:\n",
        "    Tuple berisi luas dan keliling persegi panjang.\n",
        "  \"\"\"\n",
        "  luas = panjang * lebar\n",
        "  keliling = 2 * (panjang + lebar)\n",
        "  return luas, keliling\n",
        "\n",
        "# Contoh penggunaan fungsi\n",
        "panjang_persegi = 10\n",
        "lebar_persegi = 5\n",
        "luas, keliling = luas_keliling(panjang_persegi, lebar_persegi)\n",
        "\n",
        "print(f\"Luas persegi panjang: {luas}\")\n",
        "print(f\"Keliling persegi panjang: {keliling}\")"
      ],
      "metadata": {
        "colab": {
          "base_uri": "https://localhost:8080/"
        },
        "id": "guowF1zuR194",
        "outputId": "adb586ad-ef7d-4e85-884d-db1fa82145d4"
      },
      "execution_count": null,
      "outputs": [
        {
          "output_type": "stream",
          "name": "stdout",
          "text": [
            "Luas persegi panjang: 50\n",
            "Keliling persegi panjang: 30\n"
          ]
        }
      ]
    },
    {
      "cell_type": "code",
      "source": [
        "list_contoh = [1,2,3,4,5,6]"
      ],
      "metadata": {
        "id": "nG8vUUYANyaP"
      },
      "execution_count": null,
      "outputs": []
    },
    {
      "cell_type": "code",
      "source": [
        "list_contoh.append(8)"
      ],
      "metadata": {
        "id": "XWJyG86dWBnk"
      },
      "execution_count": null,
      "outputs": []
    },
    {
      "cell_type": "code",
      "source": [
        "list_contoh"
      ],
      "metadata": {
        "colab": {
          "base_uri": "https://localhost:8080/"
        },
        "id": "Mol4xGhaWHT8",
        "outputId": "65c9a85e-7ae6-4c0b-a496-9c3703880c8f"
      },
      "execution_count": null,
      "outputs": [
        {
          "output_type": "execute_result",
          "data": {
            "text/plain": [
              "[1, 2, 3, 4, 5, 6, 8]"
            ]
          },
          "metadata": {},
          "execution_count": 16
        }
      ]
    },
    {
      "cell_type": "code",
      "source": [
        "new_set = {1,2,3,4,5}"
      ],
      "metadata": {
        "id": "Ws6kYhVHWQ-Y"
      },
      "execution_count": null,
      "outputs": []
    },
    {
      "cell_type": "code",
      "source": [
        "new_set.add(6)\n",
        "new_set\n"
      ],
      "metadata": {
        "colab": {
          "base_uri": "https://localhost:8080/"
        },
        "id": "gUbfifCjWU3H",
        "outputId": "e82e933d-5588-4d9f-bac1-dbe5f9bb3133"
      },
      "execution_count": null,
      "outputs": [
        {
          "output_type": "execute_result",
          "data": {
            "text/plain": [
              "{1, 2, 3, 4, 5, 6}"
            ]
          },
          "metadata": {},
          "execution_count": 21
        }
      ]
    },
    {
      "cell_type": "code",
      "source": [
        "## This looping prints all member of a list\n",
        "list_loop = ['Aldo', 'Budi', 'Cindy', 'Dilan', 'Ed Sheeran']\n",
        "for x in list_loop:\n",
        "  print('Nama Peserta:', x)"
      ],
      "metadata": {
        "colab": {
          "base_uri": "https://localhost:8080/"
        },
        "id": "v2DqkHYUW5Lc",
        "outputId": "9d0a7f12-6dd9-4738-9aae-07320f8297ba"
      },
      "execution_count": null,
      "outputs": [
        {
          "output_type": "stream",
          "name": "stdout",
          "text": [
            "Nama Peserta : Aldo\n",
            "Nama Peserta : Budi\n",
            "Nama Peserta : Cindy\n",
            "Nama Peserta : Dilan\n",
            "Nama Peserta :  Ed Sheeran\n"
          ]
        }
      ]
    },
    {
      "cell_type": "code",
      "source": [
        "nama = 'Abc'\n",
        "for u in range(10):\n",
        "  print(nama)"
      ],
      "metadata": {
        "colab": {
          "base_uri": "https://localhost:8080/"
        },
        "id": "fTA2Li9jXcZb",
        "outputId": "ef628f09-e35b-4984-ea40-adcf228139be"
      },
      "execution_count": null,
      "outputs": [
        {
          "output_type": "stream",
          "name": "stdout",
          "text": [
            "Abc\n",
            "Abc\n",
            "Abc\n",
            "Abc\n",
            "Abc\n",
            "Abc\n",
            "Abc\n",
            "Abc\n",
            "Abc\n",
            "Abc\n"
          ]
        }
      ]
    },
    {
      "cell_type": "code",
      "source": [
        "nilai = 80\n",
        "if nilai > 70:\n",
        "    print('lulus')\n",
        "else:\n",
        "    print('tidak lulus')\n"
      ],
      "metadata": {
        "colab": {
          "base_uri": "https://localhost:8080/"
        },
        "id": "lBiuIbFaZLEx",
        "outputId": "ef91ca40-7f6b-46be-a15a-2c9b49f4893b"
      },
      "execution_count": null,
      "outputs": [
        {
          "output_type": "stream",
          "name": "stdout",
          "text": [
            "lulus\n"
          ]
        }
      ]
    },
    {
      "cell_type": "code",
      "source": [
        "teks = \"SMK Telkom Malang\"\n"
      ],
      "metadata": {
        "id": "_I01kDILZ4TG"
      },
      "execution_count": null,
      "outputs": []
    },
    {
      "cell_type": "code",
      "source": [
        "teks[1:5]\n"
      ],
      "metadata": {
        "colab": {
          "base_uri": "https://localhost:8080/",
          "height": 36
        },
        "id": "ANV-Je7QZ7MU",
        "outputId": "5445ed20-4553-478e-fc5c-1713ca7575d7"
      },
      "execution_count": null,
      "outputs": [
        {
          "output_type": "execute_result",
          "data": {
            "text/plain": [
              "'MK T'"
            ],
            "application/vnd.google.colaboratory.intrinsic+json": {
              "type": "string"
            }
          },
          "metadata": {},
          "execution_count": 35
        }
      ]
    },
    {
      "cell_type": "code",
      "source": [
        "teks[-5:-1]\n"
      ],
      "metadata": {
        "colab": {
          "base_uri": "https://localhost:8080/",
          "height": 36
        },
        "id": "MWrF0si5Z7or",
        "outputId": "b0814dd4-603b-493d-838c-2e99482cb483"
      },
      "execution_count": null,
      "outputs": [
        {
          "output_type": "execute_result",
          "data": {
            "text/plain": [
              "'alan'"
            ],
            "application/vnd.google.colaboratory.intrinsic+json": {
              "type": "string"
            }
          },
          "metadata": {},
          "execution_count": 36
        }
      ]
    },
    {
      "cell_type": "code",
      "source": [
        "teks.split(\" \")\n"
      ],
      "metadata": {
        "colab": {
          "base_uri": "https://localhost:8080/"
        },
        "id": "B6BMbGhBZ9OR",
        "outputId": "87499998-894e-463d-abab-29aaa905c60c"
      },
      "execution_count": null,
      "outputs": [
        {
          "output_type": "execute_result",
          "data": {
            "text/plain": [
              "['SMK', 'Telkom', 'Malang']"
            ]
          },
          "metadata": {},
          "execution_count": 37
        }
      ]
    },
    {
      "cell_type": "code",
      "source": [
        "teks1 = \"coding-dengan-python\"\n",
        "teks1.split(\"-\")\n",
        "\n"
      ],
      "metadata": {
        "colab": {
          "base_uri": "https://localhost:8080/"
        },
        "id": "1Ne9k7XDZ-9X",
        "outputId": "74214b86-0b33-42ac-d499-8b5a845ff682"
      },
      "execution_count": null,
      "outputs": [
        {
          "output_type": "execute_result",
          "data": {
            "text/plain": [
              "['coding', 'dengan', 'python']"
            ]
          },
          "metadata": {},
          "execution_count": 38
        }
      ]
    },
    {
      "cell_type": "code",
      "source": [
        "#Praktikumdibawah"
      ],
      "metadata": {
        "id": "UI-7Zj5YaAcF"
      },
      "execution_count": null,
      "outputs": []
    },
    {
      "cell_type": "code",
      "source": [
        "\n",
        "a = 10\n",
        "b = 3.14\n",
        "c = \"Halo Python\"\n",
        "d = [1, 2, 3, 4, 5]\n",
        "\n",
        "print(\"Tipe data a:\", type(a))\n",
        "print(\"Tipe data b:\", type(b))\n",
        "print(\"Tipe data c:\", type(c))\n",
        "print(\"Tipe data d:\", type(d))\n",
        "\n",
        "\n",
        "\n",
        "belanja = [\"beras\", \"minyak\", \"telur\"]\n",
        "belanja.append(\"gula\")\n",
        "belanja.append(\"kopi\")\n",
        "\n",
        "print(\"\\nDaftar belanja:\")\n",
        "for item in belanja:\n",
        "    print(\"-\", item)\n",
        "\n",
        "\n",
        "\n",
        "harga = {\n",
        "    \"beras\": 12000,\n",
        "    \"minyak\": 17000,\n",
        "    \"telur\": 24000,\n",
        "    \"gula\": 15000,\n",
        "    \"kopi\": 20000\n",
        "}\n",
        "\n",
        "total = sum(harga.values())\n",
        "print(\"Total harga belanjaan: Rp\", total)\n",
        "\n",
        "\n",
        "# 4. Fungsi\n",
        "def persegi_panjang(panjang, lebar):\n",
        "    luas = panjang * lebar\n",
        "    keliling = 2 * (panjang + lebar)\n",
        "    return luas, keliling\n",
        "\n",
        "luas, keliling = persegi_panjang(10, 5)\n",
        "print(\"\\nLuas persegi panjang:\", luas)\n",
        "print(\"Keliling persegi panjang:\", keliling)\n",
        "\n",
        "\n",
        "\n",
        "usia = int(input(\"\\nMasukkan usia: \"))\n",
        "\n",
        "if 0 <= usia <= 13:\n",
        "    print(\"Anak\")\n",
        "elif 14 <= usia <= 24:\n",
        "    print(\"Remaja\")\n",
        "elif 25 <= usia <= 49:\n",
        "    print(\"Dewasa\")\n",
        "elif usia >= 50:\n",
        "    print(\"Lansia\")\n",
        "else:\n",
        "    print(\"Usia tidak valid\")\n"
      ],
      "metadata": {
        "colab": {
          "base_uri": "https://localhost:8080/"
        },
        "id": "NXFNbAI8aDRq",
        "outputId": "a039ade1-e180-463b-a4c6-f4cd7aa74c68"
      },
      "execution_count": null,
      "outputs": [
        {
          "metadata": {
            "tags": null
          },
          "name": "stdout",
          "output_type": "stream",
          "text": [
            "Tipe data a: <class 'int'>\n",
            "Tipe data b: <class 'float'>\n",
            "Tipe data c: <class 'str'>\n",
            "Tipe data d: <class 'list'>\n",
            "\n",
            "Daftar belanja:\n",
            "- beras\n",
            "- minyak\n",
            "- telur\n",
            "- gula\n",
            "- kopi\n",
            "\n",
            "Total harga belanjaan: Rp 88000\n",
            "\n",
            "Luas persegi panjang: 50\n",
            "Keliling persegi panjang: 30\n"
          ]
        }
      ]
    },
    {
      "cell_type": "code",
      "source": [],
      "metadata": {
        "id": "cNJ7MZjiaz0d"
      },
      "execution_count": null,
      "outputs": []
    }
  ]
}